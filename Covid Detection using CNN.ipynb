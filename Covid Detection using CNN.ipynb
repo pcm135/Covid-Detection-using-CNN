{
 "cells": [
  {
   "cell_type": "markdown",
   "metadata": {
    "id": "kUJSITdkLeAk"
   },
   "source": [
    "## **Covid_Detection using VGG19 architecture**\n",
    "\n",
    "\n",
    "\n"
   ]
  },
  {
   "cell_type": "code",
   "execution_count": 1,
   "metadata": {
    "id": "J8KSTWLrryaW"
   },
   "outputs": [],
   "source": [
    "import tensorflow\n",
    "from tensorflow.keras.models import Sequential\n",
    "from tensorflow.keras.layers import BatchNormalization\n",
    "from tensorflow.keras.layers import Conv2D\n",
    "from tensorflow.keras.layers import MaxPooling2D\n",
    "from tensorflow.keras.layers import Activation\n",
    "from tensorflow.keras.layers import Flatten\n",
    "from tensorflow.keras.layers import Dropout\n",
    "from tensorflow.keras.layers import Dense\n",
    "from tensorflow.keras import backend as K\n",
    "from tensorflow.keras.models import load_model\n"
   ]
  },
  {
   "cell_type": "code",
   "execution_count": 4,
   "metadata": {
    "id": "1I_7Bt0IDuzP"
   },
   "outputs": [
    {
     "ename": "ModuleNotFoundError",
     "evalue": "No module named 'matplotlib'",
     "output_type": "error",
     "traceback": [
      "\u001b[1;31m---------------------------------------------------------------------------\u001b[0m",
      "\u001b[1;31mModuleNotFoundError\u001b[0m                       Traceback (most recent call last)",
      "\u001b[1;32m<ipython-input-4-7b520bb3c13b>\u001b[0m in \u001b[0;36m<module>\u001b[1;34m\u001b[0m\n\u001b[0;32m      4\u001b[0m \u001b[1;32mfrom\u001b[0m \u001b[0msklearn\u001b[0m\u001b[1;33m.\u001b[0m\u001b[0mpreprocessing\u001b[0m \u001b[1;32mimport\u001b[0m \u001b[0mLabelBinarizer\u001b[0m\u001b[1;33m\u001b[0m\u001b[1;33m\u001b[0m\u001b[0m\n\u001b[0;32m      5\u001b[0m \u001b[1;32mfrom\u001b[0m \u001b[0msklearn\u001b[0m\u001b[1;33m.\u001b[0m\u001b[0mmodel_selection\u001b[0m \u001b[1;32mimport\u001b[0m \u001b[0mtrain_test_split\u001b[0m\u001b[1;33m\u001b[0m\u001b[1;33m\u001b[0m\u001b[0m\n\u001b[1;32m----> 6\u001b[1;33m \u001b[1;32mimport\u001b[0m \u001b[0mmatplotlib\u001b[0m\u001b[1;33m.\u001b[0m\u001b[0mpyplot\u001b[0m \u001b[1;32mas\u001b[0m \u001b[0mplt\u001b[0m\u001b[1;33m\u001b[0m\u001b[1;33m\u001b[0m\u001b[0m\n\u001b[0m\u001b[0;32m      7\u001b[0m \u001b[1;32mfrom\u001b[0m \u001b[0mimutils\u001b[0m \u001b[1;32mimport\u001b[0m \u001b[0mpaths\u001b[0m\u001b[1;33m\u001b[0m\u001b[1;33m\u001b[0m\u001b[0m\n\u001b[0;32m      8\u001b[0m \u001b[1;32mimport\u001b[0m \u001b[0mnumpy\u001b[0m \u001b[1;32mas\u001b[0m \u001b[0mnp\u001b[0m\u001b[1;33m\u001b[0m\u001b[1;33m\u001b[0m\u001b[0m\n",
      "\u001b[1;31mModuleNotFoundError\u001b[0m: No module named 'matplotlib'"
     ]
    }
   ],
   "source": [
    "from tensorflow.keras.preprocessing.image import ImageDataGenerator\n",
    "from tensorflow.keras.optimizers import Adam\n",
    "from tensorflow.keras.preprocessing.image import img_to_array\n",
    "from sklearn.preprocessing import LabelBinarizer\n",
    "from sklearn.model_selection import train_test_split\n",
    "import matplotlib.pyplot as plt\n",
    "from imutils import paths\n",
    "import numpy as np\n",
    "from numpy import asarray\n",
    "import argparse\n",
    "import random\n",
    "import tensorflow as tf\n",
    "import pickle\n",
    "import imutils\n",
    "import cv2\n",
    "import csv\n",
    "import os\n",
    "import gc\n",
    "import keras"
   ]
  },
  {
   "cell_type": "code",
   "execution_count": 5,
   "metadata": {},
   "outputs": [
    {
     "name": "stdout",
     "output_type": "stream",
     "text": [
      "Collecting matplotlib\n",
      "  Using cached matplotlib-3.3.4-cp36-cp36m-win_amd64.whl (8.5 MB)\n",
      "Requirement already satisfied: pyparsing!=2.0.4,!=2.1.2,!=2.1.6,>=2.0.3 in c:\\users\\litpu\\anaconda3\\envs\\tensorflow\\lib\\site-packages (from matplotlib) (3.0.6)\n",
      "Requirement already satisfied: numpy>=1.15 in c:\\users\\litpu\\anaconda3\\envs\\tensorflow\\lib\\site-packages (from matplotlib) (1.19.5)\n",
      "Collecting cycler>=0.10\n",
      "  Using cached cycler-0.11.0-py3-none-any.whl (6.4 kB)\n",
      "Requirement already satisfied: python-dateutil>=2.1 in c:\\users\\litpu\\anaconda3\\envs\\tensorflow\\lib\\site-packages (from matplotlib) (2.8.2)\n",
      "Collecting pillow>=6.2.0\n",
      "  Using cached Pillow-8.4.0-cp36-cp36m-win_amd64.whl (3.2 MB)\n",
      "Collecting kiwisolver>=1.0.1\n",
      "  Using cached kiwisolver-1.3.1-cp36-cp36m-win_amd64.whl (51 kB)\n",
      "Requirement already satisfied: six>=1.5 in c:\\users\\litpu\\anaconda3\\envs\\tensorflow\\lib\\site-packages (from python-dateutil>=2.1->matplotlib) (1.15.0)\n",
      "Installing collected packages: pillow, kiwisolver, cycler, matplotlib\n",
      "Successfully installed cycler-0.11.0 kiwisolver-1.3.1 matplotlib-3.3.4 pillow-8.4.0\n"
     ]
    }
   ],
   "source": [
    "!pip install matplotlib"
   ]
  },
  {
   "cell_type": "code",
   "execution_count": null,
   "metadata": {
    "id": "Phfnw7g8Fawz"
   },
   "outputs": [],
   "source": [
    "train_datagen= ImageDataGenerator(rescale=1./255,rotation_range=25, width_shift_range=0.1,\n",
    "\theight_shift_range=0.1, shear_range=0.2, zoom_range=0.2,\n",
    "\thorizontal_flip=True, fill_mode=\"nearest\")\n",
    "\n",
    "test_datagen=ImageDataGenerator(rescale=1./255)"
   ]
  },
  {
   "cell_type": "code",
   "execution_count": null,
   "metadata": {
    "colab": {
     "base_uri": "https://localhost:8080/"
    },
    "id": "6U6NgXCGELef",
    "outputId": "5328ab51-b77d-47bb-9445-a989b7f03673"
   },
   "outputs": [],
   "source": [
    "train_generator=train_datagen.flow_from_directory('/content/gdrive/MyDrive/Train',\n",
    "                                                  target_size=(224,224),\n",
    "                                                  batch_size=32,\n",
    "                                                  class_mode='categorical')\n",
    "\n",
    "validation_generator=test_datagen.flow_from_directory('/content/gdrive/MyDrive/Test',\n",
    "                                                  target_size=(224,224),\n",
    "                                                  batch_size=32,\n",
    "                                                  class_mode='categorical')"
   ]
  },
  {
   "cell_type": "code",
   "execution_count": null,
   "metadata": {
    "id": "QckISVk_7lQ2"
   },
   "outputs": [],
   "source": [
    "model=Sequential()\n",
    "model.add(Conv2D(input_shape=(224,224,3),filters=64,kernel_size=(3,3),padding=\"same\",activation=\"relu\"))\n",
    "model.add(Conv2D(filters=64,kernel_size=(3,3),padding=\"same\",activation=\"relu\"))\n",
    "model.add(MaxPooling2D(pool_size=(2,2),strides=(2,2)))\n",
    "\n",
    "model.add(Conv2D(filters=128,kernel_size=(3,3),padding=\"same\",activation=\"relu\"))\n",
    "model.add(Conv2D(filters=128,kernel_size=(3,3),padding=\"same\",activation=\"relu\"))\n",
    "model.add(MaxPooling2D(pool_size=(2,2),strides=(2,2)))\n",
    "\n",
    "model.add(Conv2D(filters=256,kernel_size=(3,3),padding=\"same\",activation=\"relu\"))\n",
    "model.add(Conv2D(filters=256,kernel_size=(3,3),padding=\"same\",activation=\"relu\"))\n",
    "model.add(Conv2D(filters=256,kernel_size=(3,3),padding=\"same\",activation=\"relu\"))\n",
    "model.add(MaxPooling2D(pool_size=(2,2),strides=(2,2)))\n",
    "\n",
    "model.add(Conv2D(filters=512,kernel_size=(3,3),padding=\"same\",activation=\"relu\"))\n",
    "model.add(Conv2D(filters=512,kernel_size=(3,3),padding=\"same\",activation=\"relu\"))\n",
    "model.add(Conv2D(filters=512,kernel_size=(3,3),padding=\"same\",activation=\"relu\"))\n",
    "model.add(MaxPooling2D(pool_size=(2,2),strides=(2,2)))\n",
    "\n",
    "model.add(Conv2D(filters=512,kernel_size=(3,3),padding=\"same\",activation=\"relu\"))\n",
    "model.add(Conv2D(filters=512,kernel_size=(3,3),padding=\"same\",activation=\"relu\"))\n",
    "model.add(Conv2D(filters=512,kernel_size=(3,3),padding=\"same\",activation=\"relu\"))\n",
    "model.add(MaxPooling2D(pool_size=(2,2),strides=(2,2)))\n",
    "\n",
    "model.add(Flatten())\n",
    "model.add(Dense(units=256,activation=\"relu\"))\n",
    "model.add(Dense(units=256,activation=\"relu\"))\n",
    "model.add(Dense(units=3,activation=\"softmax\"))\n"
   ]
  },
  {
   "cell_type": "code",
   "execution_count": null,
   "metadata": {
    "id": "sO_Vj-54bTdc"
   },
   "outputs": [],
   "source": [
    "model.compile(\n",
    "    loss='categorical_crossentropy',\n",
    "    optimizer='adam',\n",
    "    metrics=['accuracy']\n",
    ")"
   ]
  },
  {
   "cell_type": "code",
   "execution_count": null,
   "metadata": {
    "colab": {
     "base_uri": "https://localhost:8080/"
    },
    "id": "sNqV_3Q2bwvU",
    "outputId": "5c68b306-47a2-4a5d-c674-783951321774"
   },
   "outputs": [],
   "source": [
    "model.summary()"
   ]
  },
  {
   "cell_type": "code",
   "execution_count": null,
   "metadata": {
    "id": "7Xfz6XcPKqru"
   },
   "outputs": [],
   "source": [
    "model.load_weights('/content/gdrive/MyDrive/VGG16_cp/check_point_VGG.hdf5')"
   ]
  },
  {
   "cell_type": "code",
   "execution_count": null,
   "metadata": {
    "id": "jkb5uWTg1IxZ"
   },
   "outputs": [],
   "source": [
    "filename = \"/content/gdrive/MyDrive/VGG16_cp/logs_VGG.csv\""
   ]
  },
  {
   "cell_type": "code",
   "execution_count": null,
   "metadata": {
    "colab": {
     "base_uri": "https://localhost:8080/"
    },
    "id": "thFu1mP_cuTw",
    "outputId": "42224ef4-0971-467d-ebdd-136f77a15dda"
   },
   "outputs": [],
   "source": [
    "H = model.fit(train_generator,\n",
    "                             validation_data = validation_generator,\n",
    "                             steps_per_epoch = len(train_generator),\n",
    "                             initial_epoch=73,\n",
    "                             epochs = 100,\n",
    "                             validation_steps = len(validation_generator),\n",
    "                             callbacks=[checkpoint,myCallback()])"
   ]
  },
  {
   "cell_type": "code",
   "execution_count": null,
   "metadata": {
    "colab": {
     "base_uri": "https://localhost:8080/",
     "height": 643
    },
    "id": "9Uen_q53dTez",
    "outputId": "66005f26-a2a7-485a-9fa4-12b717626cf1"
   },
   "outputs": [],
   "source": [
    "# plot the training loss and accuracy\n",
    "plt.style.use(\"ggplot\")\n",
    "plt.figure(figsize=(10,10))\n",
    "N = 100\n",
    "plt.plot(np.arange(0, N), df[\"loss\"], label=\"train_loss\")\n",
    "plt.plot(np.arange(0, N), df[\"val_loss\"], label=\"val_loss\")\n",
    "plt.plot(np.arange(0, N), df[\"acc\"], label=\"train_acc\")\n",
    "plt.plot(np.arange(0, N), df[\"val_acc\"], label=\"val_acc\")\n",
    "plt.title(\"Training Loss and Accuracy\")\n",
    "plt.xlabel(\"Epoch #\")\n",
    "plt.ylabel(\"Loss/Accuracy\")\n",
    "plt.legend(loc=\"upper left\")\n"
   ]
  },
  {
   "cell_type": "code",
   "execution_count": null,
   "metadata": {
    "id": "xrunYNysyp1j"
   },
   "outputs": [],
   "source": [
    "\n",
    "model.save('/content/gdrive/MyDrive/VGG16_cp/model_VGG16.hdf5')"
   ]
  },
  {
   "cell_type": "code",
   "execution_count": null,
   "metadata": {
    "id": "dgQ1Jjw-0-De"
   },
   "outputs": [],
   "source": [
    "# load the image\n",
    "image = cv2.imread('/content/gdrive/MyDrive/COVID-19_Radiography_Dataset/Viral Pneumonia/Viral Pneumonia-667.png')\n",
    "output = image.copy()\n",
    " \n",
    "# pre-process the image for classification\n",
    "image = cv2.resize(image, (224, 224))\n",
    "image = image.astype(\"float\") / 255.0\n",
    "image = img_to_array(image)\n",
    "image = np.expand_dims(image, axis=0)\n"
   ]
  },
  {
   "cell_type": "code",
   "execution_count": null,
   "metadata": {
    "id": "NnrjK2Kl3tqX"
   },
   "outputs": [],
   "source": [
    "modelp = load_model('/content/gdrive/MyDrive/VGG16_cp/model_VGG16.hdf5')"
   ]
  },
  {
   "cell_type": "code",
   "execution_count": null,
   "metadata": {
    "colab": {
     "base_uri": "https://localhost:8080/"
    },
    "id": "wXVgP2pv7gTE",
    "outputId": "cca6b0a0-f06a-4cde-feaa-1f0f1fc102be"
   },
   "outputs": [],
   "source": [
    "# classify the input image\n",
    "print(\"[INFO] classifying image...\")\n",
    "proba = modelp.predict(image)[0]\n",
    "idx = np.argmax(proba)\n",
    "arr=['Covid','Normal','Pneumonia']\n",
    "label=arr[idx]"
   ]
  },
  {
   "cell_type": "code",
   "execution_count": null,
   "metadata": {
    "colab": {
     "base_uri": "https://localhost:8080/",
     "height": 333
    },
    "id": "I31C2Hc53gM_",
    "outputId": "8214bbca-70f6-47b0-bde3-52ee06cbb243"
   },
   "outputs": [],
   "source": [
    "from google.colab.patches import cv2_imshow\n",
    "\n",
    "cv2_imshow(output)\n",
    "label = \"{}: {:.2f}% \".format(label, proba[idx] * 100)\n",
    "output = imutils.resize(output, width=400)\n",
    "cv2.putText(output, label, (10, 25),  cv2.FONT_HERSHEY_SIMPLEX,\n",
    "\t0.7, (0, 255, 0), 2)\n",
    "# show the output image\n",
    "print(\"[INFO] {}\".format(label))"
   ]
  },
  {
   "cell_type": "code",
   "execution_count": null,
   "metadata": {
    "colab": {
     "base_uri": "https://localhost:8080/"
    },
    "id": "lcsb5vrxj_Y3",
    "outputId": "3323ebe6-450e-4f62-99a1-4be85157c9ef"
   },
   "outputs": [],
   "source": [
    "train_generator.class_indices"
   ]
  },
  {
   "cell_type": "code",
   "execution_count": null,
   "metadata": {
    "id": "hsyfYbahj_ut"
   },
   "outputs": [],
   "source": [
    "y_actual=[]\n",
    "y_test=[]"
   ]
  },
  {
   "cell_type": "code",
   "execution_count": null,
   "metadata": {
    "id": "qJTyXvgRj_67"
   },
   "outputs": [],
   "source": [
    "import os\n",
    "from keras.preprocessing import image\n",
    "\n",
    "for i in os.listdir(\"/content/gdrive/MyDrive/Test/COVID/\"):\n",
    "  img=image.load_img(\"/content/gdrive/MyDrive/Test/COVID/\"+i,target_size=(224,224))\n",
    "  img=image.img_to_array(img)\n",
    "  img=np.expand_dims(img,axis=0)\n",
    "  idx=np.argmax(modelp.predict(img)[0])\n",
    "  print(idx)\n",
    "  y_test.append(idx)\n",
    "  y_actual.append(0)"
   ]
  },
  {
   "cell_type": "code",
   "execution_count": null,
   "metadata": {
    "id": "P9DqQpnhkC9e"
   },
   "outputs": [],
   "source": [
    "for i in os.listdir(\"/content/gdrive/MyDrive/Test/Normal/\"):\n",
    "  img=image.load_img(\"/content/gdrive/MyDrive/Test/Normal/\"+i,target_size=(224,224))\n",
    "  img=image.img_to_array(img)\n",
    "  img=np.expand_dims(img,axis=0)\n",
    "  idx=np.argmax(modelp.predict(img)[0])\n",
    "  y_test.append(idx)\n",
    "  y_actual.append(1)"
   ]
  },
  {
   "cell_type": "code",
   "execution_count": null,
   "metadata": {
    "id": "q0OdOGpskGHR"
   },
   "outputs": [],
   "source": [
    "for i in os.listdir(\"/content/gdrive/MyDrive/Test/Viral Pneumonia/\"):\n",
    "  img=image.load_img(\"/content/gdrive/MyDrive/Test/Viral Pneumonia/\"+i,target_size=(224,224))\n",
    "  img=image.img_to_array(img)\n",
    "  img=np.expand_dims(img,axis=0)\n",
    "  idx=np.argmax(modelp.predict(img)[0])\n",
    "  y_test.append(idx)\n",
    "  y_actual.append(2)"
   ]
  }
 ],
 "metadata": {
  "accelerator": "GPU",
  "colab": {
   "collapsed_sections": [],
   "name": "CNN_Covid_detection.ipynb",
   "provenance": []
  },
  "kernelspec": {
   "display_name": "Python 3",
   "language": "python",
   "name": "python3"
  },
  "language_info": {
   "codemirror_mode": {
    "name": "ipython",
    "version": 3
   },
   "file_extension": ".py",
   "mimetype": "text/x-python",
   "name": "python",
   "nbconvert_exporter": "python",
   "pygments_lexer": "ipython3",
   "version": "3.6.9"
  }
 },
 "nbformat": 4,
 "nbformat_minor": 1
}
